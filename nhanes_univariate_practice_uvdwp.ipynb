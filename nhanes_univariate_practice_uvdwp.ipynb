{
 "cells": [
  {
   "cell_type": "markdown",
   "metadata": {},
   "source": [
    "# Practice notebook for univariate analysis using NHANES data\n",
    "\n",
    "This notebook will give you the opportunity to perform some univariate analyses on your own using the NHANES.  These analyses are similar to what was done in the week 2 NHANES case study notebook.\n",
    "\n",
    "You can enter your code into the cells that say \"enter your code here\", and you can type responses to the questions into the cells that say \"Type Markdown and Latex\".\n",
    "\n",
    "Note that most of the code that you will need to write below is very similar to code that appears in the case study notebook.  You will need to edit code from that notebook in small ways to adapt it to the prompts below.\n",
    "\n",
    "To get started, we will use the same module imports and read the data in the same way as we did in the case study:"
   ]
  },
  {
   "cell_type": "code",
   "execution_count": 1,
   "metadata": {},
   "outputs": [
    {
     "data": {
      "text/html": [
       "<div>\n",
       "<style scoped>\n",
       "    .dataframe tbody tr th:only-of-type {\n",
       "        vertical-align: middle;\n",
       "    }\n",
       "\n",
       "    .dataframe tbody tr th {\n",
       "        vertical-align: top;\n",
       "    }\n",
       "\n",
       "    .dataframe thead th {\n",
       "        text-align: right;\n",
       "    }\n",
       "</style>\n",
       "<table border=\"1\" class=\"dataframe\">\n",
       "  <thead>\n",
       "    <tr style=\"text-align: right;\">\n",
       "      <th></th>\n",
       "      <th>SEQN</th>\n",
       "      <th>ALQ101</th>\n",
       "      <th>ALQ110</th>\n",
       "      <th>ALQ130</th>\n",
       "      <th>SMQ020</th>\n",
       "      <th>RIAGENDR</th>\n",
       "      <th>RIDAGEYR</th>\n",
       "      <th>RIDRETH1</th>\n",
       "      <th>DMDCITZN</th>\n",
       "      <th>DMDEDUC2</th>\n",
       "      <th>...</th>\n",
       "      <th>BPXSY2</th>\n",
       "      <th>BPXDI2</th>\n",
       "      <th>BMXWT</th>\n",
       "      <th>BMXHT</th>\n",
       "      <th>BMXBMI</th>\n",
       "      <th>BMXLEG</th>\n",
       "      <th>BMXARML</th>\n",
       "      <th>BMXARMC</th>\n",
       "      <th>BMXWAIST</th>\n",
       "      <th>HIQ210</th>\n",
       "    </tr>\n",
       "  </thead>\n",
       "  <tbody>\n",
       "    <tr>\n",
       "      <th>0</th>\n",
       "      <td>83732</td>\n",
       "      <td>1.0</td>\n",
       "      <td>NaN</td>\n",
       "      <td>1.0</td>\n",
       "      <td>1</td>\n",
       "      <td>1</td>\n",
       "      <td>62</td>\n",
       "      <td>3</td>\n",
       "      <td>1.0</td>\n",
       "      <td>5.0</td>\n",
       "      <td>...</td>\n",
       "      <td>124.0</td>\n",
       "      <td>64.0</td>\n",
       "      <td>94.8</td>\n",
       "      <td>184.5</td>\n",
       "      <td>27.8</td>\n",
       "      <td>43.3</td>\n",
       "      <td>43.6</td>\n",
       "      <td>35.9</td>\n",
       "      <td>101.1</td>\n",
       "      <td>2.0</td>\n",
       "    </tr>\n",
       "    <tr>\n",
       "      <th>1</th>\n",
       "      <td>83733</td>\n",
       "      <td>1.0</td>\n",
       "      <td>NaN</td>\n",
       "      <td>6.0</td>\n",
       "      <td>1</td>\n",
       "      <td>1</td>\n",
       "      <td>53</td>\n",
       "      <td>3</td>\n",
       "      <td>2.0</td>\n",
       "      <td>3.0</td>\n",
       "      <td>...</td>\n",
       "      <td>140.0</td>\n",
       "      <td>88.0</td>\n",
       "      <td>90.4</td>\n",
       "      <td>171.4</td>\n",
       "      <td>30.8</td>\n",
       "      <td>38.0</td>\n",
       "      <td>40.0</td>\n",
       "      <td>33.2</td>\n",
       "      <td>107.9</td>\n",
       "      <td>NaN</td>\n",
       "    </tr>\n",
       "    <tr>\n",
       "      <th>2</th>\n",
       "      <td>83734</td>\n",
       "      <td>1.0</td>\n",
       "      <td>NaN</td>\n",
       "      <td>NaN</td>\n",
       "      <td>1</td>\n",
       "      <td>1</td>\n",
       "      <td>78</td>\n",
       "      <td>3</td>\n",
       "      <td>1.0</td>\n",
       "      <td>3.0</td>\n",
       "      <td>...</td>\n",
       "      <td>132.0</td>\n",
       "      <td>44.0</td>\n",
       "      <td>83.4</td>\n",
       "      <td>170.1</td>\n",
       "      <td>28.8</td>\n",
       "      <td>35.6</td>\n",
       "      <td>37.0</td>\n",
       "      <td>31.0</td>\n",
       "      <td>116.5</td>\n",
       "      <td>2.0</td>\n",
       "    </tr>\n",
       "    <tr>\n",
       "      <th>3</th>\n",
       "      <td>83735</td>\n",
       "      <td>2.0</td>\n",
       "      <td>1.0</td>\n",
       "      <td>1.0</td>\n",
       "      <td>2</td>\n",
       "      <td>2</td>\n",
       "      <td>56</td>\n",
       "      <td>3</td>\n",
       "      <td>1.0</td>\n",
       "      <td>5.0</td>\n",
       "      <td>...</td>\n",
       "      <td>134.0</td>\n",
       "      <td>68.0</td>\n",
       "      <td>109.8</td>\n",
       "      <td>160.9</td>\n",
       "      <td>42.4</td>\n",
       "      <td>38.5</td>\n",
       "      <td>37.7</td>\n",
       "      <td>38.3</td>\n",
       "      <td>110.1</td>\n",
       "      <td>2.0</td>\n",
       "    </tr>\n",
       "    <tr>\n",
       "      <th>4</th>\n",
       "      <td>83736</td>\n",
       "      <td>2.0</td>\n",
       "      <td>1.0</td>\n",
       "      <td>1.0</td>\n",
       "      <td>2</td>\n",
       "      <td>2</td>\n",
       "      <td>42</td>\n",
       "      <td>4</td>\n",
       "      <td>1.0</td>\n",
       "      <td>4.0</td>\n",
       "      <td>...</td>\n",
       "      <td>114.0</td>\n",
       "      <td>54.0</td>\n",
       "      <td>55.2</td>\n",
       "      <td>164.9</td>\n",
       "      <td>20.3</td>\n",
       "      <td>37.4</td>\n",
       "      <td>36.0</td>\n",
       "      <td>27.2</td>\n",
       "      <td>80.4</td>\n",
       "      <td>2.0</td>\n",
       "    </tr>\n",
       "  </tbody>\n",
       "</table>\n",
       "<p>5 rows × 28 columns</p>\n",
       "</div>"
      ],
      "text/plain": [
       "    SEQN  ALQ101  ALQ110  ALQ130  SMQ020  RIAGENDR  RIDAGEYR  RIDRETH1  \\\n",
       "0  83732     1.0     NaN     1.0       1         1        62         3   \n",
       "1  83733     1.0     NaN     6.0       1         1        53         3   \n",
       "2  83734     1.0     NaN     NaN       1         1        78         3   \n",
       "3  83735     2.0     1.0     1.0       2         2        56         3   \n",
       "4  83736     2.0     1.0     1.0       2         2        42         4   \n",
       "\n",
       "   DMDCITZN  DMDEDUC2  ...  BPXSY2  BPXDI2  BMXWT  BMXHT  BMXBMI  BMXLEG  \\\n",
       "0       1.0       5.0  ...   124.0    64.0   94.8  184.5    27.8    43.3   \n",
       "1       2.0       3.0  ...   140.0    88.0   90.4  171.4    30.8    38.0   \n",
       "2       1.0       3.0  ...   132.0    44.0   83.4  170.1    28.8    35.6   \n",
       "3       1.0       5.0  ...   134.0    68.0  109.8  160.9    42.4    38.5   \n",
       "4       1.0       4.0  ...   114.0    54.0   55.2  164.9    20.3    37.4   \n",
       "\n",
       "   BMXARML  BMXARMC  BMXWAIST  HIQ210  \n",
       "0     43.6     35.9     101.1     2.0  \n",
       "1     40.0     33.2     107.9     NaN  \n",
       "2     37.0     31.0     116.5     2.0  \n",
       "3     37.7     38.3     110.1     2.0  \n",
       "4     36.0     27.2      80.4     2.0  \n",
       "\n",
       "[5 rows x 28 columns]"
      ]
     },
     "execution_count": 1,
     "metadata": {},
     "output_type": "execute_result"
    }
   ],
   "source": [
    "%matplotlib inline\n",
    "import matplotlib.pyplot as plt\n",
    "import seaborn as sns\n",
    "import pandas as pd\n",
    "import statsmodels.api as sm\n",
    "import numpy as np\n",
    "\n",
    "da = pd.read_csv(\"nhanes_2015_2016.csv\")\n",
    "da.head()"
   ]
  },
  {
   "cell_type": "markdown",
   "metadata": {},
   "source": [
    "## Question 1\n",
    "\n",
    "Relabel the marital status variable [DMDMARTL](https://wwwn.cdc.gov/Nchs/Nhanes/2015-2016/DEMO_I.htm#DMDMARTL) to have brief but informative character labels.  Then construct a frequency table of these values for all people, then for women only, and for men only.  Then construct these three frequency tables using only people whose age is between 30 and 40."
   ]
  },
  {
   "cell_type": "code",
   "execution_count": 2,
   "metadata": {},
   "outputs": [
    {
     "name": "stdout",
     "output_type": "stream",
     "text": [
      "[ 1.  3.  6.  4.  5. nan  2. 77.]\n",
      "Married                2780\n",
      "Never Married          1004\n",
      "Divorced                579\n",
      "Living with partner     527\n",
      "Widowed                 396\n",
      "Missing                 261\n",
      "Separated               186\n",
      "Refused                   2\n",
      "Name: DMDMARTL, dtype: int64\n",
      "\n",
      "Married                1303\n",
      "Never Married           520\n",
      "Divorced                350\n",
      "Widowed                 296\n",
      "Living with partner     262\n",
      "Missing                 126\n",
      "Separated               118\n",
      "Refused                   1\n",
      "Name: DMDMARTL, dtype: int64\n",
      "\n",
      "Married                1477\n",
      "Never Married           484\n",
      "Living with partner     265\n",
      "Divorced                229\n",
      "Missing                 135\n",
      "Widowed                 100\n",
      "Separated                68\n",
      "Refused                   1\n",
      "Name: DMDMARTL, dtype: int64\n",
      "\n",
      "RIAGENDR  DMDMARTL           \n",
      "Female    Married                1303\n",
      "          Never Married           520\n",
      "          Divorced                350\n",
      "          Widowed                 296\n",
      "          Living with partner     262\n",
      "          Missing                 126\n",
      "          Separated               118\n",
      "          Refused                   1\n",
      "Male      Married                1477\n",
      "          Never Married           484\n",
      "          Living with partner     265\n",
      "          Divorced                229\n",
      "          Missing                 135\n",
      "          Widowed                 100\n",
      "          Separated                68\n",
      "          Refused                   1\n",
      "Name: DMDMARTL, dtype: int64\n",
      "\n",
      "Married                560\n",
      "Never Married          217\n",
      "Living with partner    143\n",
      "Divorced                70\n",
      "Separated               30\n",
      "Widowed                  5\n",
      "Refused                  1\n",
      "Name: DMDMARTL, dtype: int64\n",
      "\n",
      "RIAGENDR  DMDMARTL           \n",
      "Female    Married                285\n",
      "          Never Married          116\n",
      "          Living with partner     65\n",
      "          Divorced                46\n",
      "          Separated               18\n",
      "          Widowed                  2\n",
      "Male      Married                275\n",
      "          Never Married          101\n",
      "          Living with partner     78\n",
      "          Divorced                24\n",
      "          Separated               12\n",
      "          Widowed                  3\n",
      "          Refused                  1\n",
      "Name: DMDMARTL, dtype: int64\n"
     ]
    }
   ],
   "source": [
    "print(da['DMDMARTL'].unique())\n",
    "\n",
    "# Rename the marital status variable\n",
    "da['DMDMARTL'] = da['DMDMARTL'].replace({1:'Married', 2:'Widowed', 3:'Divorced', 4:'Separated',\n",
    "                                         5:\"Never Married\", 6:\"Living with partner\", 77:'Refused',\n",
    "                                        np.nan:'Missing'})\n",
    "\n",
    "# print unique values of DMDMARTL\n",
    "# print(da['DMDMARTL'].unique())\n",
    "\n",
    "# Get the frequency count of unique values of DMDMARTL\n",
    "print(da['DMDMARTL'].value_counts())\n",
    "print()\n",
    "\n",
    "# Replace Male with 1 and Female with 2\n",
    "da['RIAGENDR'] = da['RIAGENDR'].replace({1:'Male', 2:'Female'})\n",
    "\n",
    "da_f = da[da['RIAGENDR'] == 'Female']\n",
    "print(da_f['DMDMARTL'].value_counts())\n",
    "\n",
    "print()\n",
    "\n",
    "da_m = da[da['RIAGENDR'] == 'Male']\n",
    "print(da_m['DMDMARTL'].value_counts())\n",
    "\n",
    "print()\n",
    "print(da.groupby(['RIAGENDR'])['DMDMARTL'].value_counts())\n",
    "\n",
    "\n",
    "da_adults = da[(da['RIDAGEYR'] >= 30) & (da['RIDAGEYR'] <= 40)]\n",
    "print()\n",
    "\n",
    "print(da_adults['DMDMARTL'].value_counts())\n",
    "print()\n",
    "\n",
    "print(da_adults.groupby(['RIAGENDR'])['DMDMARTL'].value_counts())"
   ]
  },
  {
   "cell_type": "markdown",
   "metadata": {},
   "source": [
    "__Q1a.__ Briefly comment on some of the differences that you observe between the distribution of marital status between women and men, for people of all ages."
   ]
  },
  {
   "cell_type": "markdown",
   "metadata": {},
   "source": [
    "Approximately there are 10% more married men than women. Almost equal number of men and women are living with partners and similar number of records are missing for both with 1 refusing to disclose in each gender category. Interestingly, the number of never married, widowed, divorced and separated females are higher than that of males."
   ]
  },
  {
   "cell_type": "markdown",
   "metadata": {},
   "source": [
    "__Q1b.__ Briefly comment on the differences that you observe between the distribution of marital status states for women between the overall population, and for women between the ages of 30 and 40."
   ]
  },
  {
   "cell_type": "markdown",
   "metadata": {},
   "source": [
    "There are more number of women who are either living with partner or separated in 30-40 age group."
   ]
  },
  {
   "cell_type": "markdown",
   "metadata": {},
   "source": [
    "__Q1c.__ Repeat part b for the men."
   ]
  },
  {
   "cell_type": "markdown",
   "metadata": {},
   "source": [
    "The distribution of marital statuses remains almost similar for men of 30-40 age group when compared to the overall population but there are lower separated men in this age group."
   ]
  },
  {
   "cell_type": "markdown",
   "metadata": {},
   "source": [
    "## Question 2\n",
    "\n",
    "Restricting to the female population, stratify the subjects into age bands no wider than ten years, and construct the distribution of marital status within each age band.  Within each age band, present the distribution in terms of proportions that must sum to 1."
   ]
  },
  {
   "cell_type": "code",
   "execution_count": 3,
   "metadata": {},
   "outputs": [
    {
     "name": "stdout",
     "output_type": "stream",
     "text": [
      "DMDMARTL   Divorced  Living with partner  Married  Missing  Never Married  Refused  Separated  Widowed\n",
      "age_group                                                                                             \n",
      "(17, 30]      0.031                0.435    0.121    1.000          0.498      NaN      0.093      NaN\n",
      "(30, 40]      0.123                0.218    0.198      NaN          0.187      NaN      0.144    0.007\n",
      "(40, 50]      0.197                0.141    0.221      NaN          0.121      NaN      0.280    0.041\n",
      "(50, 60]      0.237                0.122    0.197      NaN          0.081    1.000      0.229    0.095\n",
      "(60, 70]      0.243                0.073    0.163      NaN          0.073      NaN      0.186    0.220\n",
      "(70, 80]      0.169                0.011    0.100      NaN          0.040      NaN      0.068    0.639\n"
     ]
    }
   ],
   "source": [
    "da_f = da[da['RIAGENDR'] == 'Female']\n",
    "\n",
    "da_f = da_f.replace({np.nan:'Missing'})\n",
    "\n",
    "# remove missing values\n",
    "da_f = da_f.dropna()\n",
    "# 1st value is not inclusive so using 17 so that 18 falls into that group\n",
    "da_f['age_group'] = pd.cut(da_f.RIDAGEYR, [17,30,40,50,60,70,80])\n",
    "\n",
    "da_f = da_f.groupby('age_group')['DMDMARTL'].value_counts()\n",
    "\n",
    "da_f = da_f.unstack()\n",
    "#print(da_f)\n",
    "da_f = da_f.apply(lambda x: x/x.sum())\n",
    "\n",
    "print(da_f.to_string(float_format='%.3f'))\n",
    "#print(da_f[pd.isnull(da_f['age_group'])]['RIDAGEYR'].unique())"
   ]
  },
  {
   "cell_type": "markdown",
   "metadata": {},
   "source": [
    "__Q2a.__ Comment on the trends that you see in this series of marginal distributions."
   ]
  },
  {
   "cell_type": "markdown",
   "metadata": {},
   "source": [
    "There are some interesting or probably expected trends as we move up across different age groups. Divorced and widowed females are lowest in the 18-30 age group and those proportions increase gradually. But noticeably, the proportion of divorced reaches the maximum in 60-70 age group and falls below 40-50 age group when we reach 70-80 age group.\n",
    "Living with partner and never married females are maximum in 17-30 age group and it decreases as age increases with marital status changes. \n",
    "\n"
   ]
  },
  {
   "cell_type": "markdown",
   "metadata": {},
   "source": [
    "__Q2b.__ Repeat the construction for males."
   ]
  },
  {
   "cell_type": "code",
   "execution_count": 4,
   "metadata": {},
   "outputs": [
    {
     "name": "stdout",
     "output_type": "stream",
     "text": [
      "DMDMARTL   Divorced  Living with partner  Married  Never Married  Widowed\n",
      "age_group                                                                \n",
      "(17, 30]        NaN                0.500    0.064          0.500      NaN\n",
      "(30, 40]      0.200                0.250    0.213          0.071      NaN\n",
      "(40, 50]      0.200                0.250    0.234          0.071      NaN\n",
      "(50, 60]      0.200                  NaN    0.170          0.071      NaN\n",
      "(60, 70]      0.400                  NaN    0.170          0.214    0.500\n",
      "(70, 80]        NaN                  NaN    0.149          0.071    0.500\n"
     ]
    }
   ],
   "source": [
    "da_m = da[da['RIAGENDR'] == 'Male']\n",
    "#da_m = da_m.replace({np.nan:'Missing'})\n",
    "\n",
    "# remove missing values\n",
    "da_m = da_m.dropna()\n",
    "# 1st value is not inclusive so using 17 so that 18 falls into that group\n",
    "da_m['age_group'] = pd.cut(da_m.RIDAGEYR, [17,30,40,50,60,70,80])\n",
    "\n",
    "da_m = da_m.groupby('age_group')['DMDMARTL'].value_counts()\n",
    "\n",
    "da_m = da_m.unstack()\n",
    "da_m = da_m.apply(lambda x: x/x.sum())\n",
    "\n",
    "print(da_m.to_string(float_format='%.3f'))\n",
    "#print(da_f[pd.isnull(da_f['age_group'])]['RIDAGEYR'].unique())"
   ]
  },
  {
   "cell_type": "markdown",
   "metadata": {},
   "source": [
    "__Q2c.__ Comment on any notable differences that you see when comparing these results for females and for males."
   ]
  },
  {
   "cell_type": "markdown",
   "metadata": {},
   "source": [
    "Living with partner, married, never married males are in majority in 17-30 age group but gradually decrease"
   ]
  },
  {
   "cell_type": "markdown",
   "metadata": {},
   "source": [
    "## Question 3\n",
    "\n",
    "Construct a histogram of the distribution of heights using the BMXHT variable in the NHANES sample."
   ]
  },
  {
   "cell_type": "code",
   "execution_count": 5,
   "metadata": {},
   "outputs": [
    {
     "data": {
      "image/png": "[encoded data removed]",
      "text/plain": [
       "<Figure size 432x288 with 1 Axes>"
      ]
     },
     "metadata": {},
     "output_type": "display_data"
    }
   ],
   "source": [
    "sns.distplot(da.BMXHT.dropna())\n",
    "\n",
    "plt.show()"
   ]
  },
  {
   "cell_type": "markdown",
   "metadata": {},
   "source": [
    "__Q3a.__ Use the `bins` argument to [distplot](https://seaborn.pydata.org/generated/seaborn.distplot.html) to produce histograms with different numbers of bins.  Assess whether the default value for this argument gives a meaningful result, and comment on what happens as the number of bins grows excessively large or excessively small. "
   ]
  },
  {
   "cell_type": "markdown",
   "metadata": {},
   "source": [
    "As the number of bins increases extremely, the distriution starts to become more discrete and\n",
    "as the bins decrease, the distriutions tend to be normal with a peak in the middle.\n",
    "In both cases, the distributions move away from normal."
   ]
  },
  {
   "cell_type": "markdown",
   "metadata": {},
   "source": [
    "__Q3b.__ Make separate histograms for the heights of women and men, then make a side-by-side boxplot showing the heights of women and men."
   ]
  },
  {
   "cell_type": "code",
   "execution_count": 6,
   "metadata": {},
   "outputs": [
    {
     "data": {
      "image/png": "[encoded data removed]",
      "text/plain": [
       "<Figure size 432x288 with 1 Axes>"
      ]
     },
     "metadata": {},
     "output_type": "display_data"
    },
    {
     "data": {
      "image/png": "[encoded data removed]",
      "text/plain": [
       "<Figure size 432x288 with 1 Axes>"
      ]
     },
     "metadata": {},
     "output_type": "display_data"
    },
    {
     "data": {
      "text/plain": [
       "Text(0.5,1,'Heights of Women and Men')"
      ]
     },
     "execution_count": 6,
     "metadata": {},
     "output_type": "execute_result"
    },
    {
     "data": {
      "image/png": "[encoded data removed]",
      "text/plain": [
       "<Figure size 432x288 with 1 Axes>"
      ]
     },
     "metadata": {},
     "output_type": "display_data"
    }
   ],
   "source": [
    "sns.distplot(da[da.RIAGENDR == 'Female'].BMXHT.dropna()).set_title('Heights of Women')\n",
    "plt.show()\n",
    "\n",
    "sns.distplot(da[da.RIAGENDR == 'Male'].BMXHT.dropna()).set_title('Heights of Men')\n",
    "plt.show()\n",
    "\n",
    "sns.boxplot(x='RIAGENDR', y='BMXHT', data=da).set_title('Heights of Women and Men')\n"
   ]
  },
  {
   "cell_type": "markdown",
   "metadata": {},
   "source": [
    "__Q3c.__ Comment on what features, if any are not represented clearly in the boxplots, and what features, if any, are easier to see in the boxplots than in the histograms."
   ]
  },
  {
   "cell_type": "markdown",
   "metadata": {},
   "source": [
    "From the boxplots, we can see the median and the distribution of heights for male and females.\n",
    "On an average, males have higher heights than females. For males, the average height is around 175 where as the median height for females is around 160. From the histograms, the spread and shape of the data is understandable but not so much from the box plots. Boxplots also help us to see where most of the outliers are. There are considerable number of outliers on both higher and lower ends."
   ]
  },
  {
   "cell_type": "markdown",
   "metadata": {},
   "source": [
    "__Q3d.__ Make a histogram of the log-transformed heights."
   ]
  },
  {
   "cell_type": "code",
   "execution_count": 7,
   "metadata": {},
   "outputs": [
    {
     "data": {
      "image/png": "[encoded data removed]",
      "text/plain": [
       "<Figure size 432x288 with 1 Axes>"
      ]
     },
     "metadata": {},
     "output_type": "display_data"
    }
   ],
   "source": [
    "sns.distplot(da['BMXHT'].dropna()).set_title('Log-Transformed Heights')\n",
    "plt.xscale('log')"
   ]
  },
  {
   "cell_type": "markdown",
   "metadata": {},
   "source": [
    "__Q3e.__ Comment on the relationship between the ditribution of the heights and the distribution of the log-transformed heights. "
   ]
  },
  {
   "cell_type": "markdown",
   "metadata": {},
   "source": [
    "Usually log transformation helps to understand the relationships more clearly and make the distributions more clearly interpretable. But there doesn't seem to be much difference in the ditribution of the heights and the distribution of the log-transformed heights. Both convey almost similar information."
   ]
  },
  {
   "cell_type": "markdown",
   "metadata": {},
   "source": [
    "## Question 4\n",
    "\n",
    "Make a boxplot showing the distribution of within-subject differences between the first and second systolic blood pressure measurents ([BPXSY1](https://wwwn.cdc.gov/Nchs/Nhanes/2015-2016/BPX_I.htm#BPXSY1) and [BPXSY2](https://wwwn.cdc.gov/Nchs/Nhanes/2015-2016/BPX_I.htm#BPXSY2))."
   ]
  },
  {
   "cell_type": "code",
   "execution_count": 8,
   "metadata": {},
   "outputs": [
    {
     "data": {
      "image/png": "[encoded data removed]",
      "text/plain": [
       "<Figure size 432x288 with 1 Axes>"
      ]
     },
     "metadata": {},
     "output_type": "display_data"
    }
   ],
   "source": [
    "sns.boxplot(da.BPXSY1-da.BPXSY2).set_title('Difference between the first and second systolic blood pressure measurements')\n",
    "plt.show()"
   ]
  },
  {
   "cell_type": "markdown",
   "metadata": {},
   "source": [
    "__Q4a.__ What proportion of the subjects have a lower SBP on the second reading compared to the first?"
   ]
  },
  {
   "cell_type": "code",
   "execution_count": 9,
   "metadata": {},
   "outputs": [
    {
     "data": {
      "text/plain": [
       "0.3412380122057541"
      ]
     },
     "execution_count": 9,
     "metadata": {},
     "output_type": "execute_result"
    }
   ],
   "source": [
    "da[(da.BPXSY1-da.BPXSY2) < 0].shape[0]/da.shape[0]"
   ]
  },
  {
   "cell_type": "markdown",
   "metadata": {},
   "source": [
    "__Q4b.__ Make side-by-side boxplots of the two systolic blood pressure variables."
   ]
  },
  {
   "cell_type": "code",
   "execution_count": 10,
   "metadata": {},
   "outputs": [
    {
     "data": {
      "image/png": "[encoded data removed]",
      "text/plain": [
       "<Figure size 432x288 with 1 Axes>"
      ]
     },
     "metadata": {},
     "output_type": "display_data"
    }
   ],
   "source": [
    "# sns.boxplot(da.BPXSY1)\n",
    "# sns.boxplot(da.BPXSY2).set_title('Boxplots of the two systolic blood pressure variables')\n",
    "\n",
    "sns.boxplot(x=\"variable\", y=\"value\", data=pd.melt(da[['BPXSY1', 'BPXSY2']])).set_title('Boxplots of the two systolic blood pressure variables')\n",
    "\n",
    "plt.show()"
   ]
  },
  {
   "cell_type": "markdown",
   "metadata": {},
   "source": [
    "__Q4c.__ Comment on the variation within either the first or second systolic blood pressure measurements, and the variation in the within-subject differences between the first and second systolic blood pressure measurements."
   ]
  },
  {
   "cell_type": "markdown",
   "metadata": {},
   "source": [
    "In both the measurments, there are a significant number of outliers above 160 and the values seem to be evenly distributed between 110 and 130 with an average measurement of around 120."
   ]
  },
  {
   "cell_type": "markdown",
   "metadata": {},
   "source": [
    "## Question 5\n",
    "\n",
    "Construct a frequency table of household sizes for people within each educational attainment category (the relevant variable is [DMDEDUC2](https://wwwn.cdc.gov/Nchs/Nhanes/2015-2016/DEMO_I.htm#DMDEDUC2)).  Convert the frequencies to proportions."
   ]
  },
  {
   "cell_type": "code",
   "execution_count": 11,
   "metadata": {},
   "outputs": [
    {
     "data": {
      "text/plain": [
       "DMDEDUC2         DMDHHSIZ\n",
       "9-11             2           0.222395\n",
       "                 3           0.163297\n",
       "                 4           0.152411\n",
       "                 5           0.146190\n",
       "                 1           0.116641\n",
       "                 6           0.113530\n",
       "                 7           0.085537\n",
       "<9               2           0.224427\n",
       "                 5           0.148092\n",
       "                 3           0.146565\n",
       "                 4           0.132824\n",
       "                 7           0.129771\n",
       "                 1           0.109924\n",
       "                 6           0.108397\n",
       "College          2           0.347731\n",
       "                 3           0.193997\n",
       "                 4           0.165447\n",
       "                 1           0.142753\n",
       "                 5           0.095168\n",
       "                 6           0.029283\n",
       "                 7           0.025622\n",
       "Dont Know        2           0.666667\n",
       "                 5           0.333333\n",
       "HS/GED           2           0.270658\n",
       "                 3           0.171164\n",
       "                 4           0.161889\n",
       "                 1           0.152614\n",
       "                 5           0.109612\n",
       "                 7           0.068297\n",
       "                 6           0.065767\n",
       "Some college/AA  2           0.268970\n",
       "                 3           0.193091\n",
       "                 4           0.169031\n",
       "                 1           0.151141\n",
       "                 5           0.122147\n",
       "                 6           0.050586\n",
       "                 7           0.045034\n",
       "Name: DMDHHSIZ, dtype: float64"
      ]
     },
     "execution_count": 11,
     "metadata": {},
     "output_type": "execute_result"
    }
   ],
   "source": [
    "da['DMDEDUC2'] = da['DMDEDUC2'].replace({1:'<9', 2:'9-11', 3:'HS/GED', 4:'Some college/AA',\n",
    "                                        5:'College', 9:'Dont Know'})\n",
    "\n",
    "\n",
    "da.groupby('DMDEDUC2')['DMDHHSIZ'].value_counts(normalize=True)\n",
    "# da_h_n = da['DMDEDUC2'].value_counts(normalize=True)  # value_counts() excludes NA values\n",
    "# print(da_h_n)\n",
    "\n",
    "# Same answer as above but may be use normalize; looks more sophisticated\n",
    "# da_h_d = da['DMDEDUC2'].value_counts()\n",
    "# print(da_h_d/da_h_d.sum())"
   ]
  },
  {
   "cell_type": "markdown",
   "metadata": {},
   "source": [
    "__Q5a.__ Comment on any major differences among the distributions."
   ]
  },
  {
   "attachments": {},
   "cell_type": "markdown",
   "metadata": {},
   "source": [
    "\n",
    "Household hold sizes for the maximum percentage of educational attainment at 9-11, College, HS/GED, Some college/AA level are 2 and they are similar changing to 3, 4, 1,5,6,7 with gradual decrease in educational attainment percentage. Except for HS/GED where the last 2 lowest proportions have the household size swapped out. Even for <9 educational level, the household size with maximum percentage is 2 and varies similarly with some swappings in between."
   ]
  },
  {
   "cell_type": "markdown",
   "metadata": {},
   "source": [
    "__Q5b.__ Restrict the sample to people between 30 and 40 years of age.  Then calculate the median household size for women and men within each level of educational attainment."
   ]
  },
  {
   "cell_type": "code",
   "execution_count": 13,
   "metadata": {},
   "outputs": [
    {
     "data": {
      "text/plain": [
       "RIAGENDR  DMDEDUC2       \n",
       "Female    9-11               5.0\n",
       "          <9                 5.0\n",
       "          College            3.0\n",
       "          HS/GED             5.0\n",
       "          Some college/AA    4.0\n",
       "Male      9-11               4.5\n",
       "          <9                 5.0\n",
       "          College            3.0\n",
       "          HS/GED             4.0\n",
       "          Some college/AA    4.0\n",
       "Name: DMDHHSIZ, dtype: float64"
      ]
     },
     "execution_count": 13,
     "metadata": {},
     "output_type": "execute_result"
    }
   ],
   "source": [
    "da_30_40 = da[(da.RIDAGEYR >= 30) & (da.RIDAGEYR <= 40)]\n",
    "\n",
    "da_30_40.groupby(['RIAGENDR', 'DMDEDUC2'])['DMDHHSIZ'].median()"
   ]
  },
  {
   "cell_type": "markdown",
   "metadata": {},
   "source": [
    "## Question 6\n",
    "\n",
    "The participants can be clustered into \"maked variance units\" (MVU) based on every combination of the variables [SDMVSTRA](https://wwwn.cdc.gov/Nchs/Nhanes/2015-2016/DEMO_I.htm#SDMVSTRA) and [SDMVPSU](https://wwwn.cdc.gov/Nchs/Nhanes/2015-2016/DEMO_I.htm#SDMVPSU).  Calculate the mean age ([RIDAGEYR](https://wwwn.cdc.gov/Nchs/Nhanes/2015-2016/DEMO_I.htm#RIDAGEYR)), height ([BMXHT](https://wwwn.cdc.gov/Nchs/Nhanes/2015-2016/BMX_I.htm#BMXHT)), and BMI ([BMXBMI](https://wwwn.cdc.gov/Nchs/Nhanes/2015-2016/BMX_I.htm#BMXBMI)) for each gender ([RIAGENDR](https://wwwn.cdc.gov/Nchs/Nhanes/2015-2016/DEMO_I.htm#RIAGENDR)), within each MVU, and report the ratio between the largest and smallest mean (e.g. for height) across the MVUs."
   ]
  },
  {
   "cell_type": "code",
   "execution_count": 20,
   "metadata": {},
   "outputs": [
    {
     "name": "stdout",
     "output_type": "stream",
     "text": [
      "                            RIDAGEYR       BMXHT     BMXBMI\n",
      "RIAGENDR SDMVSTRA SDMVPSU                                  \n",
      "Female   119      1        47.663265  159.570408  30.052041\n",
      "                  2        52.987952  159.244578  27.849398\n",
      "         120      1        43.636364  155.402041  32.419388\n",
      "                  2        43.736111  159.218056  27.400000\n",
      "         121      1        44.397959  158.871579  30.856842\n",
      "                  2        44.376344  160.229032  26.470968\n",
      "         122      1        42.897436  161.315385  29.447436\n",
      "                  2        47.333333  157.231111  26.611111\n",
      "         123      1        44.841121  162.059615  29.905769\n",
      "                  2        46.457447  160.476596  30.641489\n",
      "         124      1        51.664000  158.788710  29.533065\n",
      "                  2        42.541667  162.853521  28.640845\n",
      "         125      1        50.900901  160.762385  30.385321\n",
      "                  2        51.660000  160.021429  28.564286\n",
      "         126      1        46.229167  160.387500  31.262500\n",
      "                  2        47.205882  160.892000  29.612121\n",
      "         127      1        49.694444  157.422430  32.189720\n",
      "                  2        51.486239  159.022936  30.770642\n",
      "         128      1        55.638462  156.339062  32.303125\n",
      "                  2        45.589744  160.437179  27.491026\n",
      "         129      1        45.329787  156.900000  29.019149\n",
      "                  2        43.500000  161.034259  29.429630\n",
      "         130      1        47.810526  161.977895  30.700000\n",
      "                  2        50.833333  160.060577  31.490385\n",
      "         131      1        54.893617  161.989362  30.061702\n",
      "                  2        45.000000  161.673810  32.984127\n",
      "         132      1        43.210526  161.508421  29.848421\n",
      "                  2        51.700000  159.138281  30.540625\n",
      "         133      1        45.105882  158.295122  27.959259\n",
      "                  2        47.063158  158.627368  29.000000\n",
      "Male     119      1        47.861111  172.741667  26.958333\n",
      "                  2        54.363636  172.906818  27.160465\n",
      "         120      1        43.130000  169.537755  30.939175\n",
      "                  2        45.219178  173.075342  27.727397\n",
      "         121      1        46.750000  172.177885  29.416505\n",
      "                  2        42.063158  174.764516  26.273118\n",
      "         122      1        44.653061  173.998969  28.528866\n",
      "                  2        44.320000  170.332323  25.744444\n",
      "         123      1        47.829787  174.315217  29.231522\n",
      "                  2        52.126582  174.454430  28.811392\n",
      "         124      1        50.750000  172.109009  28.614414\n",
      "                  2        48.245614  174.291228  27.714035\n",
      "         125      1        55.165289  173.631092  29.727731\n",
      "                  2        49.705882  174.456863  29.143564\n",
      "         126      1        48.416667  175.149398  29.033333\n",
      "                  2        48.666667  174.713043  29.039130\n",
      "         127      1        53.137931  171.545349  31.062353\n",
      "                  2        54.070588  173.366667  30.557831\n",
      "         128      1        53.673267  169.325000  31.749000\n",
      "                  2        45.822785  172.400000  26.835443\n",
      "         129      1        43.922222  171.094318  26.493182\n",
      "                  2        45.775510  173.138298  28.961702\n",
      "         130      1        50.516854  176.974157  30.337079\n",
      "                  2        50.535354  175.061224  29.237755\n",
      "         131      1        53.140187  175.610476  28.259615\n",
      "                  2        46.778846  175.091346  30.077885\n",
      "         132      1        42.380435  172.534066  28.546154\n",
      "                  2        49.038760  172.809524  28.966667\n",
      "         133      1        44.054795  171.509722  27.495833\n",
      "                  2        47.489796  171.179167  27.966667\n"
     ]
    },
    {
     "data": {
      "text/plain": [
       "RIDAGEYR    1.322736\n",
       "BMXHT       1.138815\n",
       "BMXBMI      1.281213\n",
       "dtype: float64"
      ]
     },
     "execution_count": 20,
     "metadata": {},
     "output_type": "execute_result"
    }
   ],
   "source": [
    "da_mean = da.groupby(['RIAGENDR','SDMVSTRA','SDMVPSU'])[['RIDAGEYR', 'BMXHT', 'BMXBMI']].mean()\n",
    "\n",
    "print(da_mean)\n",
    "\n",
    "da_mean.apply(lambda x: x.max()/x.min())"
   ]
  },
  {
   "cell_type": "markdown",
   "metadata": {},
   "source": [
    "__Q6a.__ Comment on the extent to which mean age, height, and BMI vary among the MVUs."
   ]
  },
  {
   "cell_type": "markdown",
   "metadata": {},
   "source": [
    "Not sure I understand the question. The biggest range is in RIDAGEYR where as lowest is in BMXHT."
   ]
  },
  {
   "cell_type": "markdown",
   "metadata": {},
   "source": [
    "__Q6b.__ Calculate the inter-quartile range (IQR) for age, height, and BMI for each gender and each MVU.  Report the ratio between the largest and smalles IQR across the MVUs."
   ]
  },
  {
   "cell_type": "code",
   "execution_count": null,
   "metadata": {},
   "outputs": [],
   "source": [
    "# insert your code here"
   ]
  },
  {
   "cell_type": "markdown",
   "metadata": {},
   "source": [
    "__Q6c.__ Comment on the extent to which the IQR for age, height, and BMI vary among the MVUs."
   ]
  },
  {
   "cell_type": "markdown",
   "metadata": {},
   "source": []
  }
 ],
 "metadata": {
  "kernelspec": {
   "display_name": "Python 3",
   "language": "python",
   "name": "python3"
  },
  "language_info": {
   "codemirror_mode": {
    "name": "ipython",
    "version": 3
   },
   "file_extension": ".py",
   "mimetype": "text/x-python",
   "name": "python",
   "nbconvert_exporter": "python",
   "pygments_lexer": "ipython3",
   "version": "3.6.3"
  }
 },
 "nbformat": 4,
 "nbformat_minor": 2
}
